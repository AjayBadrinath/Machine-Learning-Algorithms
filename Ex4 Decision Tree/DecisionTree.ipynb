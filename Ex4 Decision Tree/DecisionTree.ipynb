{
 "cells": [
  {
   "cell_type": "markdown",
   "metadata": {},
   "source": [
    "<h1 style=\"text-align: center;\">Machine Learning Exercise 3 - Decision Tree From Scratch</h1>\n",
    "<h2 style=\"text-align: center;\">Ajay Badrinath</h2>\n",
    "<h3 style=\"text-align: center;\">21011102020</h3>\n"
   ]
  },
  {
   "cell_type": "markdown",
   "metadata": {},
   "source": [
    "## Version Changelog\n",
    "            \n",
    "                1.0.0 -> Computed Part a) of Question for Gini Impurity for continuous Columns\n",
    "                Yet to comment and build tree"
   ]
  },
  {
   "cell_type": "code",
   "execution_count": 5,
   "metadata": {},
   "outputs": [],
   "source": [
    "import pandas as pd\n",
    "import numpy as np"
   ]
  },
  {
   "cell_type": "code",
   "execution_count": 6,
   "metadata": {},
   "outputs": [],
   "source": [
    "class compute_gini_impurity:\n",
    "    def __init__(self,data,column:str,target:str):\n",
    "        self.data=data\n",
    "        self.column=column\n",
    "        self.target=target\n",
    "        self.data=self.data.sort_values(ascending=True,by=column)\n",
    "        self.idx=self.data.index\n",
    "        self.l=list(data[target].unique())\n",
    "        self._update_map()\n",
    "        self.get_split()\n",
    "        self.split_points()\n",
    "        self.create_avg_split_continuous()\n",
    "    def _update_map(self):\n",
    "        self._map={}\n",
    "        for i in range(len(self.data)):\n",
    "            self._map.update({ i:self.data.index.get_loc(i) })\n",
    "    def get_split(self):\n",
    "        flag=self.l[self.data[self.target].iloc[self._map[self.idx[0]]]]\n",
    "        self.arr=[]\n",
    "        for i in self.idx:\n",
    "            if (self.data[self.target].iloc[self._map[i]]==self.l[(~flag)]):\n",
    "                flag=~flag\n",
    "                self.arr.append(i)\n",
    "        #return arr \n",
    "    def split_points(self):\n",
    "        self.split_points=[]\n",
    "        for i in range(len(self.arr)):\n",
    "            self.split_points.append(self._map[self.arr[i]]-1)\n",
    "    def create_avg_split_continuous(self):\n",
    "        #avf=pd.DataFrame(s)\n",
    "        l2=[]\n",
    "        for i in range(len(self.split_points)):\n",
    "            l2.append((self.data[self.column].iloc[self.split_points[i]]+self.data[self.column].iloc[self.split_points[i]+1])/2)\n",
    "        s=pd.Series(l2)\n",
    "        self.avf=pd.DataFrame(s)\n",
    "        self.avf=self.avf.rename({0:\"avg\"},axis=1)\n",
    "    def compute_gini_leaf(self):\n",
    "        \n",
    "        gini_score=[]\n",
    "        gini_dict={}\n",
    "        gs,ix=np.inf,0\n",
    "        for i in range(len(self.avf)):\n",
    "\n",
    "            no1=len(self.data[(self.data[self.column]<self.avf.iloc[i][0] )&(self.data[self.target]==0)])\n",
    "            yes1=len(self.data[(self.data[self.column]<self.avf.iloc[i][0] )&(self.data[self.target]==1)])\n",
    "            no=len(self.data[(self.data[self.column]>=self.avf.iloc[i][0] )&(self.data[self.target]==0)])\n",
    "            yes=len(self.data[(self.data[self.column]>=self.avf.iloc[i][0] )&(self.data[self.target]==1)])\n",
    "            p1=no1/(no1+yes1)\n",
    "            p2=no/(no+yes)\n",
    "            gini1=1-(1-p1)**2-p1**2\n",
    "            gini2=1-(1-p2)**2-p2**2\n",
    "            total=((no1+yes1)/(no1+yes1+no+yes))*gini1+((no+yes)/(no1+yes1+no+yes))*gini2\n",
    "            #gini_score.append(total)\n",
    "            if(gs>total):\n",
    "                gs=total\n",
    "                ix=self.avf.iloc[i][0]\n",
    "            gini_dict.update({self.avf.iloc[i][0]:total})\n",
    "\n",
    "        return (ix,gs,gini_dict) #index,score,gini_dict_split"
   ]
  },
  {
   "cell_type": "code",
   "execution_count": 7,
   "metadata": {},
   "outputs": [],
   "source": [
    "data=pd.read_csv(r\"D:/classification.csv\")"
   ]
  },
  {
   "cell_type": "markdown",
   "metadata": {},
   "source": [
    "### GINI Impurity for 'Age' Column"
   ]
  },
  {
   "cell_type": "code",
   "execution_count": 8,
   "metadata": {},
   "outputs": [],
   "source": [
    "s=compute_gini_impurity(data,'Age','Purchased')\n"
   ]
  },
  {
   "cell_type": "code",
   "execution_count": 9,
   "metadata": {},
   "outputs": [],
   "source": [
    "s1,ix,d=s.compute_gini_leaf()"
   ]
  },
  {
   "cell_type": "code",
   "execution_count": 10,
   "metadata": {},
   "outputs": [
    {
     "data": {
      "text/plain": [
       "(42.5, 0.268790236460717)"
      ]
     },
     "execution_count": 10,
     "metadata": {},
     "output_type": "execute_result"
    }
   ],
   "source": [
    "s1,ix"
   ]
  },
  {
   "cell_type": "markdown",
   "metadata": {},
   "source": [
    "### Gini Impurity for 'EstimatedSalary' Column"
   ]
  },
  {
   "cell_type": "code",
   "execution_count": 12,
   "metadata": {},
   "outputs": [
    {
     "data": {
      "text/plain": [
       "(89500.0, 0.32756555944055943)"
      ]
     },
     "execution_count": 12,
     "metadata": {},
     "output_type": "execute_result"
    }
   ],
   "source": [
    "s=compute_gini_impurity(data,'EstimatedSalary','Purchased')\n",
    "s2,ix2,d2=s.compute_gini_leaf()\n",
    "s2,ix2"
   ]
  },
  {
   "cell_type": "code",
   "execution_count": 11,
   "metadata": {},
   "outputs": [
    {
     "data": {
      "text/plain": [
       "0.268790236460717"
      ]
     },
     "execution_count": 11,
     "metadata": {},
     "output_type": "execute_result"
    }
   ],
   "source": [
    "_"
   ]
  }
 ],
 "metadata": {
  "kernelspec": {
   "display_name": "base",
   "language": "python",
   "name": "python3"
  },
  "language_info": {
   "codemirror_mode": {
    "name": "ipython",
    "version": 3
   },
   "file_extension": ".py",
   "mimetype": "text/x-python",
   "name": "python",
   "nbconvert_exporter": "python",
   "pygments_lexer": "ipython3",
   "version": "3.9.13"
  }
 },
 "nbformat": 4,
 "nbformat_minor": 2
}
