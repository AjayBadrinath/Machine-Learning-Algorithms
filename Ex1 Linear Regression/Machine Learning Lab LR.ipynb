{
 "cells": [
  {
   "cell_type": "code",
   "execution_count": 53,
   "id": "2b103f30",
   "metadata": {},
   "outputs": [],
   "source": [
    "import numpy as np\n",
    "import pandas as pd\n",
    "import matplotlib.pyplot as plt"
   ]
  },
  {
   "cell_type": "markdown",
   "id": "80a1b127",
   "metadata": {},
   "source": [
    "### Question 1 :\n",
    "    Create a random 2-D numpy array with 1500 values. Simulate different\n",
    "    lines of fit using 1000 values from the array and find the errors for each of\n",
    "    these lines. Find the line with the least error among these lines and store\n",
    "    it as the line of best fit. Using this line of best fit, predict the target variable\n",
    "    for the other 500 values."
   ]
  },
  {
   "cell_type": "markdown",
   "id": "613de678",
   "metadata": {},
   "source": [
    "### Class Native to The given Question \n",
    "    Essentially Create A Random 2-D Array with NOT Normal Distribution Of random Function\n",
    "    So I Used Triangular Distribution . The Normal Distribution of Random Numbers is not suitable for Linear Fit As such\n",
    "    So Triangular Dist. is the closest to a nice data set for a fit\n",
    "#### PreProcessPipeline:\n",
    "    Perform The required pre-processing by \n",
    "   <ul>\n",
    "   <li>\n",
    "    Initializing 2-d matrix (750x2)->1500 val\n",
    "   </li>\n",
    "   <li>\n",
    "    Convert to a DataFrame to work with and Rename columns\n",
    "   </li>\n",
    "    \n",
    "    "
   ]
  },
  {
   "cell_type": "code",
   "execution_count": 3,
   "id": "4c0f1dd6",
   "metadata": {},
   "outputs": [
    {
     "data": {
      "text/html": [
       "<div>\n",
       "<style scoped>\n",
       "    .dataframe tbody tr th:only-of-type {\n",
       "        vertical-align: middle;\n",
       "    }\n",
       "\n",
       "    .dataframe tbody tr th {\n",
       "        vertical-align: top;\n",
       "    }\n",
       "\n",
       "    .dataframe thead th {\n",
       "        text-align: right;\n",
       "    }\n",
       "</style>\n",
       "<table border=\"1\" class=\"dataframe\">\n",
       "  <thead>\n",
       "    <tr style=\"text-align: right;\">\n",
       "      <th></th>\n",
       "      <th>X</th>\n",
       "      <th>Y</th>\n",
       "    </tr>\n",
       "  </thead>\n",
       "  <tbody>\n",
       "    <tr>\n",
       "      <th>0</th>\n",
       "      <td>-5.896139</td>\n",
       "      <td>-31.366515</td>\n",
       "    </tr>\n",
       "    <tr>\n",
       "      <th>1</th>\n",
       "      <td>22.859973</td>\n",
       "      <td>43.855882</td>\n",
       "    </tr>\n",
       "    <tr>\n",
       "      <th>2</th>\n",
       "      <td>19.868953</td>\n",
       "      <td>-30.340640</td>\n",
       "    </tr>\n",
       "    <tr>\n",
       "      <th>3</th>\n",
       "      <td>-8.725671</td>\n",
       "      <td>24.165779</td>\n",
       "    </tr>\n",
       "    <tr>\n",
       "      <th>4</th>\n",
       "      <td>-3.844669</td>\n",
       "      <td>-34.725239</td>\n",
       "    </tr>\n",
       "    <tr>\n",
       "      <th>...</th>\n",
       "      <td>...</td>\n",
       "      <td>...</td>\n",
       "    </tr>\n",
       "    <tr>\n",
       "      <th>745</th>\n",
       "      <td>15.796465</td>\n",
       "      <td>-18.244530</td>\n",
       "    </tr>\n",
       "    <tr>\n",
       "      <th>746</th>\n",
       "      <td>10.987624</td>\n",
       "      <td>30.929544</td>\n",
       "    </tr>\n",
       "    <tr>\n",
       "      <th>747</th>\n",
       "      <td>33.946575</td>\n",
       "      <td>-9.842638</td>\n",
       "    </tr>\n",
       "    <tr>\n",
       "      <th>748</th>\n",
       "      <td>-15.955341</td>\n",
       "      <td>-2.775280</td>\n",
       "    </tr>\n",
       "    <tr>\n",
       "      <th>749</th>\n",
       "      <td>27.614396</td>\n",
       "      <td>-2.509235</td>\n",
       "    </tr>\n",
       "  </tbody>\n",
       "</table>\n",
       "<p>750 rows × 2 columns</p>\n",
       "</div>"
      ],
      "text/plain": [
       "             X          Y\n",
       "0    -5.896139 -31.366515\n",
       "1    22.859973  43.855882\n",
       "2    19.868953 -30.340640\n",
       "3    -8.725671  24.165779\n",
       "4    -3.844669 -34.725239\n",
       "..         ...        ...\n",
       "745  15.796465 -18.244530\n",
       "746  10.987624  30.929544\n",
       "747  33.946575  -9.842638\n",
       "748 -15.955341  -2.775280\n",
       "749  27.614396  -2.509235\n",
       "\n",
       "[750 rows x 2 columns]"
      ]
     },
     "execution_count": 3,
     "metadata": {},
     "output_type": "execute_result"
    }
   ],
   "source": [
    "'''\n",
    "    Pre Processing is not Generic Though I have made it Generic to THIS Problem \n",
    "'''\n",
    "class PreProcessPipeline():\n",
    "    def __init__(self):\n",
    "        dataFrame=pd.DataFrame(np.random.triangular(-50,0,50,size=(750,2)))\n",
    "        dataFrame=dataFrame.rename(columns={0:\"X\",1:\"Y\"})\n",
    "        \n",
    "        self.dataframe=dataFrame\n",
    "        self._shuffle_data()\n",
    "    def _shuffle_data(self):\n",
    "        self.dataframe= self.dataframe.sample(frac=1).reset_index(drop=True)\n",
    "    def X(self):\n",
    "        return self.dataframe.iloc[:,:-1][\"X\"]\n",
    "    def Y(self):\n",
    "        return self.dataframe.iloc[:,-1]\n",
    "pp=PreProcessPipeline()\n",
    "x=pp.X()\n",
    "y=pp.Y()\n",
    "pp.dataframe"
   ]
  },
  {
   "cell_type": "markdown",
   "id": "2c0e305a",
   "metadata": {},
   "source": [
    "### Class To Perform Train Test Split "
   ]
  },
  {
   "cell_type": "code",
   "execution_count": 54,
   "id": "3cc9a61e",
   "metadata": {},
   "outputs": [],
   "source": [
    "class Train_Test_Split:\n",
    "    def __init__(self,x,y,split_size=0.667):\n",
    "        self.x=x\n",
    "        self.y=y\n",
    "        self.split_size=split_size\n",
    "    def split(self):\n",
    "        return (x[:round(self.x.size*self.split_size)],x[round(self.x.size*self.split_size):],y[:round(self.y.size*self.split_size)],y[round(self.y.size*self.split_size):])"
   ]
  },
  {
   "cell_type": "code",
   "execution_count": 5,
   "id": "65a5efc0",
   "metadata": {},
   "outputs": [],
   "source": [
    "x_train,x_test,y_train,y_test=Train_Test_Split(x,y).split()"
   ]
  },
  {
   "cell_type": "markdown",
   "id": "dd51f7c7",
   "metadata": {},
   "source": [
    "### Simulation Model \n",
    "    This Class Performs Multiple Random Line Fits By Altering its weight (m) and Bias (_intercept).\n",
    "    and we select the best parameters based on the Error computed."
   ]
  },
  {
   "cell_type": "code",
   "execution_count": 7,
   "id": "ffff9228",
   "metadata": {},
   "outputs": [],
   "source": [
    "class LinearFitSimulation():\n",
    "    def __init__(self,x_train,x_test,y_train,y_test,epochs=500):\n",
    "        self.epochs=epochs\n",
    "        self.x_train=x_train\n",
    "        self.x_test=x_test\n",
    "        self.y_train=y_train\n",
    "        self.y_test=y_test\n",
    "    def predict(self):\n",
    "        best_err=np.inf\n",
    "        best_line=None\n",
    "        for i in range(self.epochs):\n",
    "            m=np.random.randn()\n",
    "            c=np.random.randn()\n",
    "            y_pred=m*self.x_train+c\n",
    "            err= Error_Suite(self.y_train,y_pred).mse()\n",
    "        if err<best_err:\n",
    "            best_err=err\n",
    "            best_line=(m,c)\n",
    "        return (best_line,best_err,x_test*best_line[0]+best_line[-1])"
   ]
  },
  {
   "cell_type": "markdown",
   "id": "1121a9f4",
   "metadata": {},
   "source": [
    "### Error Suite Class\n",
    "    Essentially A Generic Class To compute Various Error Metrics from (y_test,y_pred) for sake of conveinience"
   ]
  },
  {
   "cell_type": "code",
   "execution_count": 55,
   "id": "8d8277d5",
   "metadata": {},
   "outputs": [],
   "source": [
    "class Error_Suite:\n",
    "    def __init__(self,y_test,y_pred):\n",
    "        self.y_test=y_test\n",
    "        self.y_pred=y_pred\n",
    "        self.size=y_test.size\n",
    "    def mse(self):\n",
    "        return(np.mean((self.y_test-self.y_pred)**2))\n",
    "    def mae(self):\n",
    "        return (abs(self.y_test-self.y_pred).sum()/self.size)\n",
    "    def mape(self):\n",
    "        return (abs((self.y_test-self.y_pred)/self.y_test)).sum()*100/self.size\n",
    "    def rmse(self):\n",
    "        return self.mse()**0.5"
   ]
  },
  {
   "cell_type": "markdown",
   "id": "f061cf93",
   "metadata": {},
   "source": [
    "### Plot Function\n",
    "    Again For convenience sake and Code Reusablity . I wrote down this fn."
   ]
  },
  {
   "cell_type": "code",
   "execution_count": 8,
   "id": "41d72937",
   "metadata": {},
   "outputs": [],
   "source": [
    "class Plot():\n",
    "    def __init__(self,x_test,y_test,y_pred):\n",
    "        self.x_test=x_test\n",
    "        self.y_test=y_test\n",
    "        self.y_pred=y_pred\n",
    "        plt.scatter(x_test,y_test)\n",
    "        plt.plot(x_test,y_pred)"
   ]
  },
  {
   "cell_type": "code",
   "execution_count": 19,
   "id": "0dbd1f30",
   "metadata": {},
   "outputs": [
    {
     "data": {
      "image/png": "[encoded data removed]",
      "text/plain": [
       "<Figure size 432x288 with 1 Axes>"
      ]
     },
     "metadata": {
      "needs_background": "light"
     },
     "output_type": "display_data"
    }
   ],
   "source": [
    "l=LinearFitSimulation(x_train,x_test,y_train,y_test,epochs=1000).predict()\n",
    "z=Plot(x_test,y_test,l[-1])\n"
   ]
  },
  {
   "cell_type": "markdown",
   "id": "bb537929",
   "metadata": {},
   "source": [
    "### Interpretation \n",
    "    The Given Data or the data that I had Used is A Triangular Distribution (-50,0,50) which follows Somewhat Linear Ascent till Mode And Descent from Mode to the right . So the Fit May Not be Exact since the distribution peaks around 0 and descends around [0,50)"
   ]
  },
  {
   "cell_type": "markdown",
   "id": "1a3cc503",
   "metadata": {},
   "source": [
    "### Question 2:\n",
    "    Use the data1.csv to build a simple linear regression from scratch without\n",
    "    using sklearn libraries and print the RMSE and mean absolute error values.\n",
    "    Use both the equations available in the slides (in theory page) to build the\n",
    "    model and compare the intercept and coefficient values"
   ]
  },
  {
   "cell_type": "markdown",
   "id": "8558a878",
   "metadata": {},
   "source": [
    "### Simple Linear Regression Model\n",
    "    This Class Essentially Performs Linear Regression using Least Squares Method."
   ]
  },
  {
   "cell_type": "code",
   "execution_count": 52,
   "id": "9c42a535",
   "metadata": {},
   "outputs": [],
   "source": [
    "class SimpleLRModel():\n",
    "    def __init__(self,x_train,x_test,y_train,y_test):\n",
    "        self.x_train=x_train.flatten()\n",
    "        self.x_test=x_test.flatten()   # This is necessary because without flattening each element in x_test/train will be a sub array then being a 2-d array messing up the computation \n",
    "        self.y_train=y_train\n",
    "        self.y_test=y_test\n",
    "        self._slope=0\n",
    "        self._intercept=0\n",
    "        \n",
    "        \n",
    "    def fit(self):\n",
    "        n=len(self.x_train)\n",
    "        m_n=n*((self.x_train*self.y_train).sum())-(self.x_train.sum()*(self.y_train.sum()))\n",
    "        m_d=n*((self.x_train**2).sum())-((self.x_train).sum())**2\n",
    "        self._slope=m_n/m_d\n",
    "        self._intercept=((self.y_train.sum())-self._slope*(self.x_train.sum()))/n\n",
    "        return (self._slope,self._intercept)\n",
    "    \n",
    "    def predict(self):\n",
    "        return self._slope*x_test+self._intercept\n",
    "    \n",
    "    \n",
    "    "
   ]
  },
  {
   "cell_type": "markdown",
   "id": "27456f4a",
   "metadata": {},
   "source": [
    "### Simple Linear Regression Model Using Pearson Coeffiecient\n",
    "    "
   ]
  },
  {
   "cell_type": "code",
   "execution_count": 51,
   "id": "107ee6d8",
   "metadata": {},
   "outputs": [],
   "source": [
    "class SimpleLRModel_Pearson():\n",
    "    def __init__(self,x_train,x_test,y_train,y_test):\n",
    "        self.x_train=x_train.flatten()\n",
    "        self.x_test=x_test.flatten()   # This is necessary because without flattening each element in x_test/train will be a sub array then being a 2-d array messing up the computation \n",
    "        self.y_train=y_train\n",
    "        self.y_test=y_test\n",
    "        self._slope=0\n",
    "        self._intercept=0\n",
    "        \n",
    "        \n",
    "    def fit(self):\n",
    "        x_mean=self.x_train.mean()\n",
    "        y_mean=self.y_train.mean()\n",
    "        x_std=np.sqrt(((self.x_train-x_mean)**2).sum()/len(self.x_train))\n",
    "        y_std=np.sqrt(((self.y_train-y_mean)**2).sum()/len(self.y_train))\n",
    "        #z_x=(self.x_train-x_mean)/x_std\n",
    "        #z_y=(self.y_train-y_mean)/y_std\n",
    "        #r=(z_x*z_y).sum()/len(self.x_train)-1\n",
    "        r=((self.x_train-x_mean)*(self.y_train-y_mean)).sum()/np.sqrt(((self.x_train-x_mean)**2).sum()*((self.y_train-y_mean)**2).sum())\n",
    "        \n",
    "        b1=r*(y_std/x_std)\n",
    "        \n",
    "        b0=y_mean-b1*x_mean\n",
    "        self._slope =b1\n",
    "        self._intercept=b0\n",
    "        return (b1,b0)\n",
    "    \n",
    "    def predict(self):\n",
    "        return self._slope*x_test+self._intercept\n",
    "    "
   ]
  },
  {
   "cell_type": "markdown",
   "id": "1de26638",
   "metadata": {},
   "source": [
    "### Data Pre processing \n"
   ]
  },
  {
   "cell_type": "code",
   "execution_count": 48,
   "id": "47d89194",
   "metadata": {},
   "outputs": [],
   "source": [
    "data=pd.read_csv(r\"D:\\data1.csv\")\n",
    "x=data.iloc[:,:-1].values\n",
    "y=data.iloc[:,-1].values"
   ]
  },
  {
   "cell_type": "code",
   "execution_count": 56,
   "id": "9f5e00db",
   "metadata": {},
   "outputs": [],
   "source": [
    "x_train,x_test,y_train,y_test=Train_Test_Split(x,y).split()"
   ]
  },
  {
   "cell_type": "markdown",
   "id": "6c19b357",
   "metadata": {},
   "source": [
    "### Model Training (Least Squares)"
   ]
  },
  {
   "cell_type": "code",
   "execution_count": 57,
   "id": "29965104",
   "metadata": {},
   "outputs": [
    {
     "data": {
      "text/plain": [
       "(3.1792452830188678, 30.10377358490566)"
      ]
     },
     "execution_count": 57,
     "metadata": {},
     "output_type": "execute_result"
    }
   ],
   "source": [
    "lrm=SimpleLRModel(x_train,x_test,y_train,y_test)\n",
    "lrm.fit()"
   ]
  },
  {
   "cell_type": "markdown",
   "id": "92708bfe",
   "metadata": {},
   "source": [
    "### Model prediction (Least Squares)"
   ]
  },
  {
   "cell_type": "code",
   "execution_count": 58,
   "id": "a42d8f3f",
   "metadata": {},
   "outputs": [
    {
     "data": {
      "text/plain": [
       "(array([84.1509434 , 71.43396226, 68.25471698, 77.79245283, 80.97169811,\n",
       "        74.61320755, 80.97169811, 80.97169811, 87.33018868, 90.50943396,\n",
       "        84.1509434 , 71.43396226, 68.25471698, 77.79245283, 80.97169811,\n",
       "        74.61320755, 80.97169811, 80.97169811, 87.33018868, 90.50943396,\n",
       "        84.1509434 , 71.43396226, 68.25471698, 77.79245283, 80.97169811,\n",
       "        74.61320755, 80.97169811, 80.97169811, 87.33018868, 90.50943396,\n",
       "        84.1509434 , 71.43396226, 68.25471698, 77.79245283, 80.97169811,\n",
       "        74.61320755, 80.97169811, 80.97169811, 87.33018868, 90.50943396]),\n",
       " array([94, 73, 59, 80, 93, 85, 66, 79, 77, 91, 94, 73, 59, 80, 93, 85, 66,\n",
       "        79, 77, 91, 94, 73, 59, 80, 93, 85, 66, 79, 77, 91, 94, 73, 59, 80,\n",
       "        93, 85, 66, 79, 77, 91], dtype=int64))"
      ]
     },
     "execution_count": 58,
     "metadata": {},
     "output_type": "execute_result"
    }
   ],
   "source": [
    "y_pred=lrm.predict().flatten()\n",
    "(y_pred,y_test)"
   ]
  },
  {
   "cell_type": "markdown",
   "id": "1b8cc37a",
   "metadata": {},
   "source": [
    "### Model Error Metrics (Least Squares)"
   ]
  },
  {
   "cell_type": "code",
   "execution_count": 59,
   "id": "0b71a42c",
   "metadata": {},
   "outputs": [
    {
     "name": "stdout",
     "output_type": "stream",
     "text": [
      "Mean Squared Error :77.75377358490566\n",
      "Root Mean Squared Error:8.817810022046611\n",
      "Mean Percentage Error:9.535691016912438\n",
      "Mean AbsoluteError:7.30566037735849\n",
      "\n"
     ]
    }
   ],
   "source": [
    "mse=Error_Suite(y_test,y_pred).mse()\n",
    "rmse=Error_Suite(y_test,y_pred).rmse()\n",
    "mape=Error_Suite(y_test,y_pred).mape()\n",
    "mae=Error_Suite(y_test,y_pred).mae()\n",
    "\n",
    "print(f\"Mean Squared Error :{mse}\\nRoot Mean Squared Error:{rmse}\\nMean Percentage Error:{mape}\\nMean AbsoluteError:{mae}\\n\")"
   ]
  },
  {
   "cell_type": "code",
   "execution_count": 60,
   "id": "756086e5",
   "metadata": {},
   "outputs": [
    {
     "data": {
      "text/plain": [
       "[<matplotlib.lines.Line2D at 0x1bee3dbf4f0>]"
      ]
     },
     "execution_count": 60,
     "metadata": {},
     "output_type": "execute_result"
    },
    {
     "data": {
      "image/png": "[encoded data removed]",
      "text/plain": [
       "<Figure size 432x288 with 1 Axes>"
      ]
     },
     "metadata": {
      "needs_background": "light"
     },
     "output_type": "display_data"
    }
   ],
   "source": [
    "plt.scatter(x_test,y_test)\n",
    "plt.plot(x_test,y_pred)"
   ]
  },
  {
   "cell_type": "markdown",
   "id": "463e1993",
   "metadata": {},
   "source": [
    "### Model Fit Using Pearson Correlation "
   ]
  },
  {
   "cell_type": "code",
   "execution_count": 61,
   "id": "4e46ce56",
   "metadata": {},
   "outputs": [
    {
     "data": {
      "text/plain": [
       "(3.179245283018868, 30.10377358490566)"
      ]
     },
     "execution_count": 61,
     "metadata": {},
     "output_type": "execute_result"
    }
   ],
   "source": [
    "reg=SimpleLRModel_Pearson(x_train,x_test,y_train,y_test)\n",
    "reg.fit()"
   ]
  },
  {
   "cell_type": "code",
   "execution_count": 62,
   "id": "5608ef52",
   "metadata": {},
   "outputs": [
    {
     "data": {
      "text/plain": [
       "(array([94, 73, 59, 80, 93, 85, 66, 79, 77, 91, 94, 73, 59, 80, 93, 85, 66,\n",
       "        79, 77, 91, 94, 73, 59, 80, 93, 85, 66, 79, 77, 91, 94, 73, 59, 80,\n",
       "        93, 85, 66, 79, 77, 91], dtype=int64),\n",
       " array([84.1509434 , 71.43396226, 68.25471698, 77.79245283, 80.97169811,\n",
       "        74.61320755, 80.97169811, 80.97169811, 87.33018868, 90.50943396,\n",
       "        84.1509434 , 71.43396226, 68.25471698, 77.79245283, 80.97169811,\n",
       "        74.61320755, 80.97169811, 80.97169811, 87.33018868, 90.50943396,\n",
       "        84.1509434 , 71.43396226, 68.25471698, 77.79245283, 80.97169811,\n",
       "        74.61320755, 80.97169811, 80.97169811, 87.33018868, 90.50943396,\n",
       "        84.1509434 , 71.43396226, 68.25471698, 77.79245283, 80.97169811,\n",
       "        74.61320755, 80.97169811, 80.97169811, 87.33018868, 90.50943396]))"
      ]
     },
     "execution_count": 62,
     "metadata": {},
     "output_type": "execute_result"
    }
   ],
   "source": [
    "y_pred_pearson=reg.predict()\n",
    "(y_test,y_pred_pearson.flatten())"
   ]
  },
  {
   "cell_type": "markdown",
   "id": "01029396",
   "metadata": {},
   "source": [
    "### Model Error metrics (Pearson Correlation)"
   ]
  },
  {
   "cell_type": "code",
   "execution_count": 64,
   "id": "eda1d623",
   "metadata": {},
   "outputs": [
    {
     "name": "stdout",
     "output_type": "stream",
     "text": [
      "Mean Squared Error :77.75377358490564\n",
      "Root Mean Squared Error:8.81781002204661\n",
      "Mean Percentage Error:9.535691016912434\n",
      "Mean AbsoluteError:7.305660377358488\n",
      "\n"
     ]
    }
   ],
   "source": [
    "mse=Error_Suite(y_test,y_pred_pearson.flatten()).mse()\n",
    "rmse=Error_Suite(y_test,y_pred_pearson.flatten()).rmse()\n",
    "mape=Error_Suite(y_test,y_pred_pearson.flatten()).mape()\n",
    "mae=Error_Suite(y_test,y_pred_pearson.flatten()).mae()\n",
    "\n",
    "print(f\"Mean Squared Error :{mse}\\nRoot Mean Squared Error:{rmse}\\nMean Percentage Error:{mape}\\nMean AbsoluteError:{mae}\\n\")"
   ]
  },
  {
   "cell_type": "markdown",
   "id": "82e69466",
   "metadata": {},
   "source": [
    "### Regression Line Plot"
   ]
  },
  {
   "cell_type": "code",
   "execution_count": 46,
   "id": "6f46a504",
   "metadata": {},
   "outputs": [
    {
     "data": {
      "text/plain": [
       "[<matplotlib.lines.Line2D at 0x1bee41189a0>]"
      ]
     },
     "execution_count": 46,
     "metadata": {},
     "output_type": "execute_result"
    },
    {
     "data": {
      "image/png": "[encoded data removed]",
      "text/plain": [
       "<Figure size 432x288 with 1 Axes>"
      ]
     },
     "metadata": {
      "needs_background": "light"
     },
     "output_type": "display_data"
    }
   ],
   "source": [
    "plt.scatter(x_test,y_test)\n",
    "plt.plot(x_test,y_pred_pearson)"
   ]
  },
  {
   "cell_type": "markdown",
   "id": "fabff07d",
   "metadata": {},
   "source": [
    "### Inference \n",
    "    Thus the equations obtained are the same and the Errors obtained are comparably similar in magnitude.\n",
    "    "
   ]
  }
 ],
 "metadata": {
  "kernelspec": {
   "display_name": "Python 3 (ipykernel)",
   "language": "python",
   "name": "python3"
  },
  "language_info": {
   "codemirror_mode": {
    "name": "ipython",
    "version": 3
   },
   "file_extension": ".py",
   "mimetype": "text/x-python",
   "name": "python",
   "nbconvert_exporter": "python",
   "pygments_lexer": "ipython3",
   "version": "3.9.13"
  }
 },
 "nbformat": 4,
 "nbformat_minor": 5
}
